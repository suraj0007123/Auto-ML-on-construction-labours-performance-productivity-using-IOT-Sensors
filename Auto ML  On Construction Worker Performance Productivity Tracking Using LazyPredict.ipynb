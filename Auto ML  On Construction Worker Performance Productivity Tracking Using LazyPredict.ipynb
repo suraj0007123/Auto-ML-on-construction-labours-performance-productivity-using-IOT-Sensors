{
 "cells": [
  {
   "cell_type": "markdown",
   "id": "c146e7cf",
   "metadata": {},
   "source": [
    "# Loading The Necessary"
   ]
  },
  {
   "cell_type": "code",
   "execution_count": 45,
   "id": "8876e394",
   "metadata": {},
   "outputs": [],
   "source": [
    "\n",
    "### For data manipulations\n",
    "import pandas as pd\n",
    "import numpy as np\n",
    "\n",
    "### For data Visualizations\n",
    "import matplotlib.pyplot as plt\n",
    "import seaborn as sns\n",
    "\n",
    "import warnings\n",
    "warnings.filterwarnings('ignore')"
   ]
  },
  {
   "cell_type": "markdown",
   "id": "b0318d8e",
   "metadata": {},
   "source": [
    "# Importing Neccessaary Libraries which are required for columntransformer, PipeLine, SimpleImputer, MinMaxScaling, OneHotEncoding"
   ]
  },
  {
   "cell_type": "code",
   "execution_count": 46,
   "id": "e68eb6d5",
   "metadata": {},
   "outputs": [],
   "source": [
    "\n",
    "import numpy as np\n",
    "import pandas as pd\n",
    "from sklearn.compose import ColumnTransformer\n",
    "from sklearn.pipeline import Pipeline\n",
    "from sklearn.impute import SimpleImputer\n",
    "from sklearn.preprocessing import MinMaxScaler\n",
    "from sklearn.preprocessing import OneHotEncoder\n",
    "from lazypredict.Supervised import LazyClassifier\n",
    "\n"
   ]
  },
  {
   "cell_type": "markdown",
   "id": "cf4f957e",
   "metadata": {},
   "source": [
    "# Let's Read the Dataset for Analysis The Productivity"
   ]
  },
  {
   "cell_type": "code",
   "execution_count": 47,
   "id": "d068ae25",
   "metadata": {},
   "outputs": [],
   "source": [
    "\n",
    "\n",
    "lbdata=pd.read_excel(r\"C:\\Users\\sony\\my_first_project\\labour.xlsx\")\n"
   ]
  },
  {
   "cell_type": "markdown",
   "id": "b4f3f389",
   "metadata": {},
   "source": [
    "# To Know the Information of the Dataset"
   ]
  },
  {
   "cell_type": "code",
   "execution_count": 48,
   "id": "dc1440f8",
   "metadata": {},
   "outputs": [
    {
     "name": "stdout",
     "output_type": "stream",
     "text": [
      "<class 'pandas.core.frame.DataFrame'>\n",
      "RangeIndex: 276 entries, 0 to 275\n",
      "Data columns (total 25 columns):\n",
      " #   Column                      Non-Null Count  Dtype         \n",
      "---  ------                      --------------  -----         \n",
      " 0   Emp ID                      276 non-null    object        \n",
      " 1   Name                        276 non-null    object        \n",
      " 2   Age                         269 non-null    float64       \n",
      " 3   Gender                      276 non-null    object        \n",
      " 4   Nationality                 276 non-null    object        \n",
      " 5   Martial Status              276 non-null    object        \n",
      " 6   Designation                 276 non-null    object        \n",
      " 7   Experience                  276 non-null    int64         \n",
      " 8   Work Date                   276 non-null    datetime64[ns]\n",
      " 9   Site                        276 non-null    object        \n",
      " 10  Rfid                        276 non-null    object        \n",
      " 11  Latitude                    276 non-null    float64       \n",
      " 12  Longitude                   276 non-null    float64       \n",
      " 13  Work Started Time           276 non-null    object        \n",
      " 14  Body Temperature            276 non-null    float64       \n",
      " 15  Noise Detection             276 non-null    object        \n",
      " 16  Infrared Sensor             276 non-null    object        \n",
      " 17  Gas Sensor                  276 non-null    object        \n",
      " 18  GalvanicSkinResponseSensor  271 non-null    float64       \n",
      " 19  SkinTemperatureSensor       272 non-null    float64       \n",
      " 20  BloodVolumePulse            276 non-null    float64       \n",
      " 21  RespirationRateSensor       272 non-null    float64       \n",
      " 22  HeartRateSensor             276 non-null    int64         \n",
      " 23  MotionSensor                276 non-null    object        \n",
      " 24  Performance                 276 non-null    object        \n",
      "dtypes: datetime64[ns](1), float64(8), int64(2), object(14)\n",
      "memory usage: 54.0+ KB\n"
     ]
    }
   ],
   "source": [
    "\n",
    "\n",
    "lbdata.info()\n",
    "\n"
   ]
  },
  {
   "cell_type": "markdown",
   "id": "6b263289",
   "metadata": {},
   "source": [
    "# let's check the shape of the Dataset"
   ]
  },
  {
   "cell_type": "code",
   "execution_count": 49,
   "id": "c87ffcb4",
   "metadata": {},
   "outputs": [
    {
     "name": "stdout",
     "output_type": "stream",
     "text": [
      "Shape of the Dataset: (276, 25)\n"
     ]
    }
   ],
   "source": [
    "\n",
    "\n",
    "\n",
    "print(\"Shape of the Dataset:\", lbdata.shape)\n"
   ]
  },
  {
   "cell_type": "markdown",
   "id": "cea5acee",
   "metadata": {},
   "source": [
    "# Let's check the Head of the Dataset"
   ]
  },
  {
   "cell_type": "code",
   "execution_count": 50,
   "id": "6d2532b5",
   "metadata": {},
   "outputs": [
    {
     "data": {
      "text/html": [
       "<div>\n",
       "<style scoped>\n",
       "    .dataframe tbody tr th:only-of-type {\n",
       "        vertical-align: middle;\n",
       "    }\n",
       "\n",
       "    .dataframe tbody tr th {\n",
       "        vertical-align: top;\n",
       "    }\n",
       "\n",
       "    .dataframe thead th {\n",
       "        text-align: right;\n",
       "    }\n",
       "</style>\n",
       "<table border=\"1\" class=\"dataframe\">\n",
       "  <thead>\n",
       "    <tr style=\"text-align: right;\">\n",
       "      <th></th>\n",
       "      <th>Emp ID</th>\n",
       "      <th>Name</th>\n",
       "      <th>Age</th>\n",
       "      <th>Gender</th>\n",
       "      <th>Nationality</th>\n",
       "      <th>Martial Status</th>\n",
       "      <th>Designation</th>\n",
       "      <th>Experience</th>\n",
       "      <th>Work Date</th>\n",
       "      <th>Site</th>\n",
       "      <th>...</th>\n",
       "      <th>Noise Detection</th>\n",
       "      <th>Infrared Sensor</th>\n",
       "      <th>Gas Sensor</th>\n",
       "      <th>GalvanicSkinResponseSensor</th>\n",
       "      <th>SkinTemperatureSensor</th>\n",
       "      <th>BloodVolumePulse</th>\n",
       "      <th>RespirationRateSensor</th>\n",
       "      <th>HeartRateSensor</th>\n",
       "      <th>MotionSensor</th>\n",
       "      <th>Performance</th>\n",
       "    </tr>\n",
       "  </thead>\n",
       "  <tbody>\n",
       "    <tr>\n",
       "      <th>0</th>\n",
       "      <td>2172</td>\n",
       "      <td>James</td>\n",
       "      <td>46.00</td>\n",
       "      <td>Male</td>\n",
       "      <td>Japan</td>\n",
       "      <td>Married</td>\n",
       "      <td>Un-Skilled</td>\n",
       "      <td>14</td>\n",
       "      <td>2022-10-25</td>\n",
       "      <td>Site 2</td>\n",
       "      <td>...</td>\n",
       "      <td>Yes</td>\n",
       "      <td>No</td>\n",
       "      <td>No</td>\n",
       "      <td>6.84</td>\n",
       "      <td>33.55</td>\n",
       "      <td>-18.39</td>\n",
       "      <td>15.60</td>\n",
       "      <td>123</td>\n",
       "      <td>Moving Bricks</td>\n",
       "      <td>Productive</td>\n",
       "    </tr>\n",
       "    <tr>\n",
       "      <th>1</th>\n",
       "      <td>1346</td>\n",
       "      <td>Robert</td>\n",
       "      <td>36.00</td>\n",
       "      <td>Male</td>\n",
       "      <td>Japan</td>\n",
       "      <td>Unmarried</td>\n",
       "      <td>Un-Skilled</td>\n",
       "      <td>4</td>\n",
       "      <td>2022-10-25</td>\n",
       "      <td>Site 3</td>\n",
       "      <td>...</td>\n",
       "      <td>Yes</td>\n",
       "      <td>Yes</td>\n",
       "      <td>No</td>\n",
       "      <td>6.59</td>\n",
       "      <td>33.55</td>\n",
       "      <td>-45.77</td>\n",
       "      <td>15.60</td>\n",
       "      <td>122</td>\n",
       "      <td>Welding</td>\n",
       "      <td>Productive</td>\n",
       "    </tr>\n",
       "    <tr>\n",
       "      <th>2</th>\n",
       "      <td>2207</td>\n",
       "      <td>John</td>\n",
       "      <td>NaN</td>\n",
       "      <td>Male</td>\n",
       "      <td>China</td>\n",
       "      <td>Married</td>\n",
       "      <td>Semi-Skilled</td>\n",
       "      <td>14</td>\n",
       "      <td>2022-10-25</td>\n",
       "      <td>Site 1</td>\n",
       "      <td>...</td>\n",
       "      <td>No</td>\n",
       "      <td>No</td>\n",
       "      <td>Yes</td>\n",
       "      <td>6.98</td>\n",
       "      <td>33.59</td>\n",
       "      <td>70.09</td>\n",
       "      <td>15.00</td>\n",
       "      <td>122</td>\n",
       "      <td>Moving Stones</td>\n",
       "      <td>Productive</td>\n",
       "    </tr>\n",
       "    <tr>\n",
       "      <th>3</th>\n",
       "      <td>4950</td>\n",
       "      <td>Mary</td>\n",
       "      <td>39.00</td>\n",
       "      <td>Female</td>\n",
       "      <td>Malaysia</td>\n",
       "      <td>Married</td>\n",
       "      <td>Un-Skilled</td>\n",
       "      <td>18</td>\n",
       "      <td>2022-10-25</td>\n",
       "      <td>Site 2</td>\n",
       "      <td>...</td>\n",
       "      <td>Yes</td>\n",
       "      <td>Yes</td>\n",
       "      <td>No</td>\n",
       "      <td>6.98</td>\n",
       "      <td>NaN</td>\n",
       "      <td>-48.23</td>\n",
       "      <td>NaN</td>\n",
       "      <td>121</td>\n",
       "      <td>Welding</td>\n",
       "      <td>Productive</td>\n",
       "    </tr>\n",
       "    <tr>\n",
       "      <th>4</th>\n",
       "      <td>2016</td>\n",
       "      <td>Michael</td>\n",
       "      <td>51.00</td>\n",
       "      <td>Male</td>\n",
       "      <td>China</td>\n",
       "      <td>Unmarried</td>\n",
       "      <td>Skilled</td>\n",
       "      <td>11</td>\n",
       "      <td>2022-10-25</td>\n",
       "      <td>Site 2</td>\n",
       "      <td>...</td>\n",
       "      <td>No</td>\n",
       "      <td>Yes</td>\n",
       "      <td>No</td>\n",
       "      <td>7.09</td>\n",
       "      <td>33.57</td>\n",
       "      <td>7.87</td>\n",
       "      <td>14.70</td>\n",
       "      <td>120</td>\n",
       "      <td>Cutting Bricks</td>\n",
       "      <td>Productive</td>\n",
       "    </tr>\n",
       "  </tbody>\n",
       "</table>\n",
       "<p>5 rows × 25 columns</p>\n",
       "</div>"
      ],
      "text/plain": [
       "  Emp ID     Name   Age  Gender Nationality Martial Status   Designation  \\\n",
       "0   2172    James 46.00    Male       Japan        Married    Un-Skilled   \n",
       "1   1346   Robert 36.00    Male       Japan      Unmarried    Un-Skilled   \n",
       "2   2207     John   NaN    Male       China        Married  Semi-Skilled   \n",
       "3   4950     Mary 39.00  Female    Malaysia        Married    Un-Skilled   \n",
       "4   2016  Michael 51.00    Male       China      Unmarried       Skilled   \n",
       "\n",
       "   Experience  Work Date    Site  ... Noise Detection  Infrared Sensor  \\\n",
       "0          14 2022-10-25  Site 2  ...             Yes               No   \n",
       "1           4 2022-10-25  Site 3  ...             Yes              Yes   \n",
       "2          14 2022-10-25  Site 1  ...              No               No   \n",
       "3          18 2022-10-25  Site 2  ...             Yes              Yes   \n",
       "4          11 2022-10-25  Site 2  ...              No              Yes   \n",
       "\n",
       "   Gas Sensor GalvanicSkinResponseSensor  SkinTemperatureSensor  \\\n",
       "0          No                       6.84                  33.55   \n",
       "1          No                       6.59                  33.55   \n",
       "2         Yes                       6.98                  33.59   \n",
       "3          No                       6.98                    NaN   \n",
       "4          No                       7.09                  33.57   \n",
       "\n",
       "  BloodVolumePulse RespirationRateSensor HeartRateSensor    MotionSensor  \\\n",
       "0           -18.39                 15.60             123   Moving Bricks   \n",
       "1           -45.77                 15.60             122         Welding   \n",
       "2            70.09                 15.00             122   Moving Stones   \n",
       "3           -48.23                   NaN             121         Welding   \n",
       "4             7.87                 14.70             120  Cutting Bricks   \n",
       "\n",
       "   Performance  \n",
       "0   Productive  \n",
       "1   Productive  \n",
       "2   Productive  \n",
       "3   Productive  \n",
       "4   Productive  \n",
       "\n",
       "[5 rows x 25 columns]"
      ]
     },
     "execution_count": 50,
     "metadata": {},
     "output_type": "execute_result"
    }
   ],
   "source": [
    "\n",
    "\n",
    "lbdata.head()\n",
    "\n"
   ]
  },
  {
   "cell_type": "markdown",
   "id": "955219e5",
   "metadata": {},
   "source": [
    "# To know the Names of Each Column in Dataset"
   ]
  },
  {
   "cell_type": "code",
   "execution_count": 51,
   "id": "49e2a864",
   "metadata": {},
   "outputs": [
    {
     "data": {
      "text/plain": [
       "Index(['Emp ID', 'Name', 'Age', 'Gender', 'Nationality', 'Martial Status',\n",
       "       'Designation', 'Experience', 'Work Date', 'Site', 'Rfid', 'Latitude',\n",
       "       'Longitude', 'Work Started Time', 'Body Temperature', 'Noise Detection',\n",
       "       'Infrared Sensor', 'Gas Sensor', 'GalvanicSkinResponseSensor',\n",
       "       'SkinTemperatureSensor', 'BloodVolumePulse', 'RespirationRateSensor',\n",
       "       'HeartRateSensor', 'MotionSensor', 'Performance'],\n",
       "      dtype='object')"
      ]
     },
     "execution_count": 51,
     "metadata": {},
     "output_type": "execute_result"
    }
   ],
   "source": [
    "\n",
    "\n",
    "lbdata.columns\n",
    "\n"
   ]
  },
  {
   "cell_type": "markdown",
   "id": "ca3639ba",
   "metadata": {},
   "source": [
    "# Checking the Duplicate Values in the Dataset"
   ]
  },
  {
   "cell_type": "code",
   "execution_count": 52,
   "id": "85ba30e9",
   "metadata": {},
   "outputs": [
    {
     "data": {
      "text/plain": [
       "0"
      ]
     },
     "execution_count": 52,
     "metadata": {},
     "output_type": "execute_result"
    }
   ],
   "source": [
    "\n",
    "\n",
    "duplicate = lbdata.duplicated()\n",
    "duplicate\n",
    "sum(duplicate)\n"
   ]
  },
  {
   "cell_type": "markdown",
   "id": "b15fdd86",
   "metadata": {},
   "source": [
    "# FEATURE ENGINEERING\n",
    "# Dropping the Columns Which are Un-necessary"
   ]
  },
  {
   "cell_type": "code",
   "execution_count": 53,
   "id": "9de96701",
   "metadata": {},
   "outputs": [
    {
     "data": {
      "text/plain": [
       "Index(['Age', 'Gender', 'Body Temperature', 'Infrared Sensor',\n",
       "       'GalvanicSkinResponseSensor', 'SkinTemperatureSensor',\n",
       "       'BloodVolumePulse', 'RespirationRateSensor', 'HeartRateSensor',\n",
       "       'MotionSensor', 'Performance'],\n",
       "      dtype='object')"
      ]
     },
     "execution_count": 53,
     "metadata": {},
     "output_type": "execute_result"
    }
   ],
   "source": [
    "\n",
    "\n",
    "\n",
    "lbdata_1 = lbdata.drop(['Emp ID','Name','Nationality','Martial Status','Designation','Experience','Work Date','Site','Rfid','Latitude','Longitude','Work Started Time','Noise Detection','Gas Sensor'], axis=1)\n",
    "lbdata_1.columns"
   ]
  },
  {
   "cell_type": "markdown",
   "id": "2beb2b7c",
   "metadata": {},
   "source": [
    "# To know the data-types of Each variable Present in DataSet"
   ]
  },
  {
   "cell_type": "code",
   "execution_count": 54,
   "id": "dd4339ab",
   "metadata": {},
   "outputs": [
    {
     "data": {
      "text/plain": [
       "Age                           float64\n",
       "Gender                         object\n",
       "Body Temperature              float64\n",
       "Infrared Sensor                object\n",
       "GalvanicSkinResponseSensor    float64\n",
       "SkinTemperatureSensor         float64\n",
       "BloodVolumePulse              float64\n",
       "RespirationRateSensor         float64\n",
       "HeartRateSensor                 int64\n",
       "MotionSensor                   object\n",
       "Performance                    object\n",
       "dtype: object"
      ]
     },
     "execution_count": 54,
     "metadata": {},
     "output_type": "execute_result"
    }
   ],
   "source": [
    "\n",
    "\n",
    "lbdata_1.dtypes\n"
   ]
  },
  {
   "cell_type": "markdown",
   "id": "a95cc70e",
   "metadata": {},
   "source": [
    "# To know the Information of the lbdata Dataset"
   ]
  },
  {
   "cell_type": "code",
   "execution_count": 55,
   "id": "a05916e7",
   "metadata": {},
   "outputs": [
    {
     "name": "stdout",
     "output_type": "stream",
     "text": [
      "<class 'pandas.core.frame.DataFrame'>\n",
      "RangeIndex: 276 entries, 0 to 275\n",
      "Data columns (total 11 columns):\n",
      " #   Column                      Non-Null Count  Dtype  \n",
      "---  ------                      --------------  -----  \n",
      " 0   Age                         269 non-null    float64\n",
      " 1   Gender                      276 non-null    object \n",
      " 2   Body Temperature            276 non-null    float64\n",
      " 3   Infrared Sensor             276 non-null    object \n",
      " 4   GalvanicSkinResponseSensor  271 non-null    float64\n",
      " 5   SkinTemperatureSensor       272 non-null    float64\n",
      " 6   BloodVolumePulse            276 non-null    float64\n",
      " 7   RespirationRateSensor       272 non-null    float64\n",
      " 8   HeartRateSensor             276 non-null    int64  \n",
      " 9   MotionSensor                276 non-null    object \n",
      " 10  Performance                 276 non-null    object \n",
      "dtypes: float64(6), int64(1), object(4)\n",
      "memory usage: 23.8+ KB\n"
     ]
    }
   ],
   "source": [
    "\n",
    "\n",
    "lbdata_1.info()\n"
   ]
  },
  {
   "cell_type": "markdown",
   "id": "da3650b3",
   "metadata": {},
   "source": [
    "# Checking the null Values or Missing Values Present in the lbdata Dataset"
   ]
  },
  {
   "cell_type": "code",
   "execution_count": 56,
   "id": "1c2318fd",
   "metadata": {},
   "outputs": [
    {
     "data": {
      "text/plain": [
       "Age                           7\n",
       "Gender                        0\n",
       "Body Temperature              0\n",
       "Infrared Sensor               0\n",
       "GalvanicSkinResponseSensor    5\n",
       "SkinTemperatureSensor         4\n",
       "BloodVolumePulse              0\n",
       "RespirationRateSensor         4\n",
       "HeartRateSensor               0\n",
       "MotionSensor                  0\n",
       "Performance                   0\n",
       "dtype: int64"
      ]
     },
     "execution_count": 56,
     "metadata": {},
     "output_type": "execute_result"
    }
   ],
   "source": [
    "\n",
    "\n",
    "lbdata_1.isnull().sum()"
   ]
  },
  {
   "cell_type": "markdown",
   "id": "276d5571",
   "metadata": {},
   "source": [
    "# Partitioning the lbdata_1 into X=Predictors and Y=Target"
   ]
  },
  {
   "cell_type": "code",
   "execution_count": 57,
   "id": "957db1a6",
   "metadata": {},
   "outputs": [
    {
     "data": {
      "text/html": [
       "<div>\n",
       "<style scoped>\n",
       "    .dataframe tbody tr th:only-of-type {\n",
       "        vertical-align: middle;\n",
       "    }\n",
       "\n",
       "    .dataframe tbody tr th {\n",
       "        vertical-align: top;\n",
       "    }\n",
       "\n",
       "    .dataframe thead th {\n",
       "        text-align: right;\n",
       "    }\n",
       "</style>\n",
       "<table border=\"1\" class=\"dataframe\">\n",
       "  <thead>\n",
       "    <tr style=\"text-align: right;\">\n",
       "      <th></th>\n",
       "      <th>Age</th>\n",
       "      <th>Gender</th>\n",
       "      <th>Body Temperature</th>\n",
       "      <th>Infrared Sensor</th>\n",
       "      <th>GalvanicSkinResponseSensor</th>\n",
       "      <th>SkinTemperatureSensor</th>\n",
       "      <th>BloodVolumePulse</th>\n",
       "      <th>RespirationRateSensor</th>\n",
       "      <th>HeartRateSensor</th>\n",
       "      <th>MotionSensor</th>\n",
       "    </tr>\n",
       "  </thead>\n",
       "  <tbody>\n",
       "    <tr>\n",
       "      <th>0</th>\n",
       "      <td>46.00</td>\n",
       "      <td>Male</td>\n",
       "      <td>95.91</td>\n",
       "      <td>No</td>\n",
       "      <td>6.84</td>\n",
       "      <td>33.55</td>\n",
       "      <td>-18.39</td>\n",
       "      <td>15.60</td>\n",
       "      <td>123</td>\n",
       "      <td>Moving Bricks</td>\n",
       "    </tr>\n",
       "    <tr>\n",
       "      <th>1</th>\n",
       "      <td>36.00</td>\n",
       "      <td>Male</td>\n",
       "      <td>89.32</td>\n",
       "      <td>Yes</td>\n",
       "      <td>6.59</td>\n",
       "      <td>33.55</td>\n",
       "      <td>-45.77</td>\n",
       "      <td>15.60</td>\n",
       "      <td>122</td>\n",
       "      <td>Welding</td>\n",
       "    </tr>\n",
       "    <tr>\n",
       "      <th>2</th>\n",
       "      <td>NaN</td>\n",
       "      <td>Male</td>\n",
       "      <td>93.63</td>\n",
       "      <td>No</td>\n",
       "      <td>6.98</td>\n",
       "      <td>33.59</td>\n",
       "      <td>70.09</td>\n",
       "      <td>15.00</td>\n",
       "      <td>122</td>\n",
       "      <td>Moving Stones</td>\n",
       "    </tr>\n",
       "    <tr>\n",
       "      <th>3</th>\n",
       "      <td>39.00</td>\n",
       "      <td>Female</td>\n",
       "      <td>89.63</td>\n",
       "      <td>Yes</td>\n",
       "      <td>6.98</td>\n",
       "      <td>NaN</td>\n",
       "      <td>-48.23</td>\n",
       "      <td>NaN</td>\n",
       "      <td>121</td>\n",
       "      <td>Welding</td>\n",
       "    </tr>\n",
       "    <tr>\n",
       "      <th>4</th>\n",
       "      <td>51.00</td>\n",
       "      <td>Male</td>\n",
       "      <td>93.65</td>\n",
       "      <td>Yes</td>\n",
       "      <td>7.09</td>\n",
       "      <td>33.57</td>\n",
       "      <td>7.87</td>\n",
       "      <td>14.70</td>\n",
       "      <td>120</td>\n",
       "      <td>Cutting Bricks</td>\n",
       "    </tr>\n",
       "    <tr>\n",
       "      <th>...</th>\n",
       "      <td>...</td>\n",
       "      <td>...</td>\n",
       "      <td>...</td>\n",
       "      <td>...</td>\n",
       "      <td>...</td>\n",
       "      <td>...</td>\n",
       "      <td>...</td>\n",
       "      <td>...</td>\n",
       "      <td>...</td>\n",
       "      <td>...</td>\n",
       "    </tr>\n",
       "    <tr>\n",
       "      <th>271</th>\n",
       "      <td>28.00</td>\n",
       "      <td>Female</td>\n",
       "      <td>99.41</td>\n",
       "      <td>Yes</td>\n",
       "      <td>0.51</td>\n",
       "      <td>33.32</td>\n",
       "      <td>37.31</td>\n",
       "      <td>17.90</td>\n",
       "      <td>95</td>\n",
       "      <td>Welding</td>\n",
       "    </tr>\n",
       "    <tr>\n",
       "      <th>272</th>\n",
       "      <td>37.00</td>\n",
       "      <td>Female</td>\n",
       "      <td>91.28</td>\n",
       "      <td>Yes</td>\n",
       "      <td>0.50</td>\n",
       "      <td>33.31</td>\n",
       "      <td>-14.15</td>\n",
       "      <td>18.00</td>\n",
       "      <td>96</td>\n",
       "      <td>Cutting Rebar</td>\n",
       "    </tr>\n",
       "    <tr>\n",
       "      <th>273</th>\n",
       "      <td>40.00</td>\n",
       "      <td>Female</td>\n",
       "      <td>93.46</td>\n",
       "      <td>Yes</td>\n",
       "      <td>0.53</td>\n",
       "      <td>33.39</td>\n",
       "      <td>-14.15</td>\n",
       "      <td>18.30</td>\n",
       "      <td>98</td>\n",
       "      <td>Placing Rebar</td>\n",
       "    </tr>\n",
       "    <tr>\n",
       "      <th>274</th>\n",
       "      <td>32.00</td>\n",
       "      <td>Female</td>\n",
       "      <td>94.41</td>\n",
       "      <td>Yes</td>\n",
       "      <td>0.54</td>\n",
       "      <td>33.38</td>\n",
       "      <td>-14.15</td>\n",
       "      <td>18.40</td>\n",
       "      <td>99</td>\n",
       "      <td>Moving Bricks</td>\n",
       "    </tr>\n",
       "    <tr>\n",
       "      <th>275</th>\n",
       "      <td>35.00</td>\n",
       "      <td>Female</td>\n",
       "      <td>99.49</td>\n",
       "      <td>Yes</td>\n",
       "      <td>0.56</td>\n",
       "      <td>33.36</td>\n",
       "      <td>-14.12</td>\n",
       "      <td>18.90</td>\n",
       "      <td>97</td>\n",
       "      <td>Moving Stones</td>\n",
       "    </tr>\n",
       "  </tbody>\n",
       "</table>\n",
       "<p>276 rows × 10 columns</p>\n",
       "</div>"
      ],
      "text/plain": [
       "      Age  Gender  Body Temperature Infrared Sensor  \\\n",
       "0   46.00    Male             95.91              No   \n",
       "1   36.00    Male             89.32             Yes   \n",
       "2     NaN    Male             93.63              No   \n",
       "3   39.00  Female             89.63             Yes   \n",
       "4   51.00    Male             93.65             Yes   \n",
       "..    ...     ...               ...             ...   \n",
       "271 28.00  Female             99.41             Yes   \n",
       "272 37.00  Female             91.28             Yes   \n",
       "273 40.00  Female             93.46             Yes   \n",
       "274 32.00  Female             94.41             Yes   \n",
       "275 35.00  Female             99.49             Yes   \n",
       "\n",
       "     GalvanicSkinResponseSensor  SkinTemperatureSensor  BloodVolumePulse  \\\n",
       "0                          6.84                  33.55            -18.39   \n",
       "1                          6.59                  33.55            -45.77   \n",
       "2                          6.98                  33.59             70.09   \n",
       "3                          6.98                    NaN            -48.23   \n",
       "4                          7.09                  33.57              7.87   \n",
       "..                          ...                    ...               ...   \n",
       "271                        0.51                  33.32             37.31   \n",
       "272                        0.50                  33.31            -14.15   \n",
       "273                        0.53                  33.39            -14.15   \n",
       "274                        0.54                  33.38            -14.15   \n",
       "275                        0.56                  33.36            -14.12   \n",
       "\n",
       "     RespirationRateSensor  HeartRateSensor    MotionSensor  \n",
       "0                    15.60              123   Moving Bricks  \n",
       "1                    15.60              122         Welding  \n",
       "2                    15.00              122   Moving Stones  \n",
       "3                      NaN              121         Welding  \n",
       "4                    14.70              120  Cutting Bricks  \n",
       "..                     ...              ...             ...  \n",
       "271                  17.90               95         Welding  \n",
       "272                  18.00               96   Cutting Rebar  \n",
       "273                  18.30               98   Placing Rebar  \n",
       "274                  18.40               99   Moving Bricks  \n",
       "275                  18.90               97   Moving Stones  \n",
       "\n",
       "[276 rows x 10 columns]"
      ]
     },
     "execution_count": 57,
     "metadata": {},
     "output_type": "execute_result"
    }
   ],
   "source": [
    "\n",
    "\n",
    "X = lbdata_1.iloc[:,:10]\n",
    "\n",
    "X"
   ]
  },
  {
   "cell_type": "markdown",
   "id": "89db4e46",
   "metadata": {},
   "source": [
    "# To know the X Variables "
   ]
  },
  {
   "cell_type": "code",
   "execution_count": 58,
   "id": "f4cd380d",
   "metadata": {},
   "outputs": [
    {
     "data": {
      "text/plain": [
       "<bound method NDFrame.head of       Age  Gender  Body Temperature Infrared Sensor  \\\n",
       "0   46.00    Male             95.91              No   \n",
       "1   36.00    Male             89.32             Yes   \n",
       "2     NaN    Male             93.63              No   \n",
       "3   39.00  Female             89.63             Yes   \n",
       "4   51.00    Male             93.65             Yes   \n",
       "..    ...     ...               ...             ...   \n",
       "271 28.00  Female             99.41             Yes   \n",
       "272 37.00  Female             91.28             Yes   \n",
       "273 40.00  Female             93.46             Yes   \n",
       "274 32.00  Female             94.41             Yes   \n",
       "275 35.00  Female             99.49             Yes   \n",
       "\n",
       "     GalvanicSkinResponseSensor  SkinTemperatureSensor  BloodVolumePulse  \\\n",
       "0                          6.84                  33.55            -18.39   \n",
       "1                          6.59                  33.55            -45.77   \n",
       "2                          6.98                  33.59             70.09   \n",
       "3                          6.98                    NaN            -48.23   \n",
       "4                          7.09                  33.57              7.87   \n",
       "..                          ...                    ...               ...   \n",
       "271                        0.51                  33.32             37.31   \n",
       "272                        0.50                  33.31            -14.15   \n",
       "273                        0.53                  33.39            -14.15   \n",
       "274                        0.54                  33.38            -14.15   \n",
       "275                        0.56                  33.36            -14.12   \n",
       "\n",
       "     RespirationRateSensor  HeartRateSensor    MotionSensor  \n",
       "0                    15.60              123   Moving Bricks  \n",
       "1                    15.60              122         Welding  \n",
       "2                    15.00              122   Moving Stones  \n",
       "3                      NaN              121         Welding  \n",
       "4                    14.70              120  Cutting Bricks  \n",
       "..                     ...              ...             ...  \n",
       "271                  17.90               95         Welding  \n",
       "272                  18.00               96   Cutting Rebar  \n",
       "273                  18.30               98   Placing Rebar  \n",
       "274                  18.40               99   Moving Bricks  \n",
       "275                  18.90               97   Moving Stones  \n",
       "\n",
       "[276 rows x 10 columns]>"
      ]
     },
     "execution_count": 58,
     "metadata": {},
     "output_type": "execute_result"
    }
   ],
   "source": [
    "\n",
    "\n",
    "X.columns \n",
    "\n",
    "X.head"
   ]
  },
  {
   "cell_type": "code",
   "execution_count": 59,
   "id": "85be2d80",
   "metadata": {},
   "outputs": [
    {
     "data": {
      "text/plain": [
       "0      Productive\n",
       "1      Productive\n",
       "2      Productive\n",
       "3      Productive\n",
       "4      Productive\n",
       "          ...    \n",
       "271    Productive\n",
       "272    Productive\n",
       "273    Productive\n",
       "274    Productive\n",
       "275    Productive\n",
       "Name: Performance, Length: 276, dtype: object"
      ]
     },
     "execution_count": 59,
     "metadata": {},
     "output_type": "execute_result"
    }
   ],
   "source": [
    "\n",
    "Y = lbdata_1['Performance']\n",
    "\n",
    "Y\n"
   ]
  },
  {
   "cell_type": "markdown",
   "id": "c6996472",
   "metadata": {},
   "source": [
    "# Taking Only The Numeric Features for Simple Imputation, Winsorization, MinMaxScaling "
   ]
  },
  {
   "cell_type": "code",
   "execution_count": 60,
   "id": "fbed7b9c",
   "metadata": {},
   "outputs": [
    {
     "data": {
      "text/plain": [
       "Index(['Age', 'Body Temperature', 'GalvanicSkinResponseSensor',\n",
       "       'SkinTemperatureSensor', 'BloodVolumePulse', 'RespirationRateSensor',\n",
       "       'HeartRateSensor'],\n",
       "      dtype='object')"
      ]
     },
     "execution_count": 60,
     "metadata": {},
     "output_type": "execute_result"
    }
   ],
   "source": [
    "\n",
    "\n",
    "numeric_features = X.select_dtypes(exclude=['object']).columns\n",
    "\n",
    "numeric_features\n"
   ]
  },
  {
   "cell_type": "markdown",
   "id": "53d0e95f",
   "metadata": {},
   "source": [
    "# Taking Only The Categorical Features for OneHotEncoding "
   ]
  },
  {
   "cell_type": "code",
   "execution_count": 61,
   "id": "541e8bbb",
   "metadata": {},
   "outputs": [
    {
     "data": {
      "text/plain": [
       "Index(['Gender', 'Infrared Sensor', 'MotionSensor'], dtype='object')"
      ]
     },
     "execution_count": 61,
     "metadata": {},
     "output_type": "execute_result"
    }
   ],
   "source": [
    "\n",
    "\n",
    "categorical_features = X.select_dtypes(include=['object']).columns\n",
    "\n",
    "categorical_features"
   ]
  },
  {
   "cell_type": "markdown",
   "id": "1d5fd145",
   "metadata": {},
   "source": [
    "# creating instance of Pipeline for SimpleImputer = Mean"
   ]
  },
  {
   "cell_type": "code",
   "execution_count": 62,
   "id": "b22141a1",
   "metadata": {},
   "outputs": [],
   "source": [
    "\n",
    "\n",
    "num_pipeline = Pipeline(steps = [('impute', SimpleImputer(strategy= \"mean\"))])\n"
   ]
  },
  {
   "cell_type": "markdown",
   "id": "fb675859",
   "metadata": {},
   "source": [
    "# Transforming the Imputed numeric Features into Preprocessor"
   ]
  },
  {
   "cell_type": "code",
   "execution_count": 63,
   "id": "8950bb42",
   "metadata": {},
   "outputs": [],
   "source": [
    "\n",
    "\n",
    "preprocessor = ColumnTransformer(transformers = [('num', num_pipeline, numeric_features)])\n"
   ]
  },
  {
   "cell_type": "markdown",
   "id": "d012e48c",
   "metadata": {},
   "source": [
    "# After Columnstransformation and mean imputation fitting the X Values"
   ]
  },
  {
   "cell_type": "code",
   "execution_count": 64,
   "id": "12bc73db",
   "metadata": {},
   "outputs": [],
   "source": [
    "\n",
    "\n",
    "imputation = preprocessor.fit(X)\n",
    "\n"
   ]
  },
  {
   "cell_type": "markdown",
   "id": "e476afef",
   "metadata": {},
   "source": [
    "# Creating the dataframe of mean imputation of Numeric X Values and putting Those values into imputation1"
   ]
  },
  {
   "cell_type": "code",
   "execution_count": 65,
   "id": "5ce86206",
   "metadata": {},
   "outputs": [
    {
     "data": {
      "text/html": [
       "<div>\n",
       "<style scoped>\n",
       "    .dataframe tbody tr th:only-of-type {\n",
       "        vertical-align: middle;\n",
       "    }\n",
       "\n",
       "    .dataframe tbody tr th {\n",
       "        vertical-align: top;\n",
       "    }\n",
       "\n",
       "    .dataframe thead th {\n",
       "        text-align: right;\n",
       "    }\n",
       "</style>\n",
       "<table border=\"1\" class=\"dataframe\">\n",
       "  <thead>\n",
       "    <tr style=\"text-align: right;\">\n",
       "      <th></th>\n",
       "      <th>Age</th>\n",
       "      <th>Body Temperature</th>\n",
       "      <th>GalvanicSkinResponseSensor</th>\n",
       "      <th>SkinTemperatureSensor</th>\n",
       "      <th>BloodVolumePulse</th>\n",
       "      <th>RespirationRateSensor</th>\n",
       "      <th>HeartRateSensor</th>\n",
       "    </tr>\n",
       "  </thead>\n",
       "  <tbody>\n",
       "    <tr>\n",
       "      <th>0</th>\n",
       "      <td>46.00</td>\n",
       "      <td>95.91</td>\n",
       "      <td>6.84</td>\n",
       "      <td>33.55</td>\n",
       "      <td>-18.39</td>\n",
       "      <td>15.60</td>\n",
       "      <td>123.00</td>\n",
       "    </tr>\n",
       "    <tr>\n",
       "      <th>1</th>\n",
       "      <td>36.00</td>\n",
       "      <td>89.32</td>\n",
       "      <td>6.59</td>\n",
       "      <td>33.55</td>\n",
       "      <td>-45.77</td>\n",
       "      <td>15.60</td>\n",
       "      <td>122.00</td>\n",
       "    </tr>\n",
       "    <tr>\n",
       "      <th>2</th>\n",
       "      <td>31.53</td>\n",
       "      <td>93.63</td>\n",
       "      <td>6.98</td>\n",
       "      <td>33.59</td>\n",
       "      <td>70.09</td>\n",
       "      <td>15.00</td>\n",
       "      <td>122.00</td>\n",
       "    </tr>\n",
       "    <tr>\n",
       "      <th>3</th>\n",
       "      <td>39.00</td>\n",
       "      <td>89.63</td>\n",
       "      <td>6.98</td>\n",
       "      <td>33.61</td>\n",
       "      <td>-48.23</td>\n",
       "      <td>17.12</td>\n",
       "      <td>121.00</td>\n",
       "    </tr>\n",
       "    <tr>\n",
       "      <th>4</th>\n",
       "      <td>51.00</td>\n",
       "      <td>93.65</td>\n",
       "      <td>7.09</td>\n",
       "      <td>33.57</td>\n",
       "      <td>7.87</td>\n",
       "      <td>14.70</td>\n",
       "      <td>120.00</td>\n",
       "    </tr>\n",
       "    <tr>\n",
       "      <th>...</th>\n",
       "      <td>...</td>\n",
       "      <td>...</td>\n",
       "      <td>...</td>\n",
       "      <td>...</td>\n",
       "      <td>...</td>\n",
       "      <td>...</td>\n",
       "      <td>...</td>\n",
       "    </tr>\n",
       "    <tr>\n",
       "      <th>271</th>\n",
       "      <td>28.00</td>\n",
       "      <td>99.41</td>\n",
       "      <td>0.51</td>\n",
       "      <td>33.32</td>\n",
       "      <td>37.31</td>\n",
       "      <td>17.90</td>\n",
       "      <td>95.00</td>\n",
       "    </tr>\n",
       "    <tr>\n",
       "      <th>272</th>\n",
       "      <td>37.00</td>\n",
       "      <td>91.28</td>\n",
       "      <td>0.50</td>\n",
       "      <td>33.31</td>\n",
       "      <td>-14.15</td>\n",
       "      <td>18.00</td>\n",
       "      <td>96.00</td>\n",
       "    </tr>\n",
       "    <tr>\n",
       "      <th>273</th>\n",
       "      <td>40.00</td>\n",
       "      <td>93.46</td>\n",
       "      <td>0.53</td>\n",
       "      <td>33.39</td>\n",
       "      <td>-14.15</td>\n",
       "      <td>18.30</td>\n",
       "      <td>98.00</td>\n",
       "    </tr>\n",
       "    <tr>\n",
       "      <th>274</th>\n",
       "      <td>32.00</td>\n",
       "      <td>94.41</td>\n",
       "      <td>0.54</td>\n",
       "      <td>33.38</td>\n",
       "      <td>-14.15</td>\n",
       "      <td>18.40</td>\n",
       "      <td>99.00</td>\n",
       "    </tr>\n",
       "    <tr>\n",
       "      <th>275</th>\n",
       "      <td>35.00</td>\n",
       "      <td>99.49</td>\n",
       "      <td>0.56</td>\n",
       "      <td>33.36</td>\n",
       "      <td>-14.12</td>\n",
       "      <td>18.90</td>\n",
       "      <td>97.00</td>\n",
       "    </tr>\n",
       "  </tbody>\n",
       "</table>\n",
       "<p>276 rows × 7 columns</p>\n",
       "</div>"
      ],
      "text/plain": [
       "      Age  Body Temperature  GalvanicSkinResponseSensor  \\\n",
       "0   46.00             95.91                        6.84   \n",
       "1   36.00             89.32                        6.59   \n",
       "2   31.53             93.63                        6.98   \n",
       "3   39.00             89.63                        6.98   \n",
       "4   51.00             93.65                        7.09   \n",
       "..    ...               ...                         ...   \n",
       "271 28.00             99.41                        0.51   \n",
       "272 37.00             91.28                        0.50   \n",
       "273 40.00             93.46                        0.53   \n",
       "274 32.00             94.41                        0.54   \n",
       "275 35.00             99.49                        0.56   \n",
       "\n",
       "     SkinTemperatureSensor  BloodVolumePulse  RespirationRateSensor  \\\n",
       "0                    33.55            -18.39                  15.60   \n",
       "1                    33.55            -45.77                  15.60   \n",
       "2                    33.59             70.09                  15.00   \n",
       "3                    33.61            -48.23                  17.12   \n",
       "4                    33.57              7.87                  14.70   \n",
       "..                     ...               ...                    ...   \n",
       "271                  33.32             37.31                  17.90   \n",
       "272                  33.31            -14.15                  18.00   \n",
       "273                  33.39            -14.15                  18.30   \n",
       "274                  33.38            -14.15                  18.40   \n",
       "275                  33.36            -14.12                  18.90   \n",
       "\n",
       "     HeartRateSensor  \n",
       "0             123.00  \n",
       "1             122.00  \n",
       "2             122.00  \n",
       "3             121.00  \n",
       "4             120.00  \n",
       "..               ...  \n",
       "271            95.00  \n",
       "272            96.00  \n",
       "273            98.00  \n",
       "274            99.00  \n",
       "275            97.00  \n",
       "\n",
       "[276 rows x 7 columns]"
      ]
     },
     "execution_count": 65,
     "metadata": {},
     "output_type": "execute_result"
    }
   ],
   "source": [
    "\n",
    "\n",
    "imputation1 = pd.DataFrame(imputation.transform(X), columns = numeric_features)\n",
    "\n",
    "imputation1\n"
   ]
  },
  {
   "cell_type": "markdown",
   "id": "c9b45d7e",
   "metadata": {},
   "source": [
    "# Indentifying the Outliers of Numeric features with the help of Boxplot "
   ]
  },
  {
   "cell_type": "code",
   "execution_count": 66,
   "id": "0e5e633c",
   "metadata": {},
   "outputs": [],
   "source": [
    "\n",
    "\n",
    "\n",
    "import matplotlib.pyplot as plt"
   ]
  },
  {
   "cell_type": "code",
   "execution_count": 67,
   "id": "211ca2e3",
   "metadata": {},
   "outputs": [
    {
     "data": {
      "image/png": "[encoded data removed]",
      "text/plain": [
       "<Figure size 864x720 with 7 Axes>"
      ]
     },
     "metadata": {
      "needs_background": "light"
     },
     "output_type": "display_data"
    }
   ],
   "source": [
    "\n",
    "# Multiple boxplots in a single visualization.\n",
    "# Columns with larger scales affect other columns. \n",
    "# Below code ensures each column gets its own y-axis.\n",
    "\n",
    "# pandas plot() function with parameters kind = 'box' and subplots = True\n",
    "\n",
    "import matplotlib.pyplot as plt\n",
    "\n",
    "imputation1.plot(kind = 'box', subplots = True, sharey = False, figsize = (12,10))\n",
    "\n",
    "'''sharey True or 'all': x- or y-axis will be shared among all subplots.\n",
    "False or 'none': each subplot x- or y-axis will be independent.'''\n",
    "\n",
    "# increase spacing between subplots\n",
    "plt.subplots_adjust(wspace = 0.50) # ws is the width of the padding between subplots, as a fraction of the average Axes width.\n",
    "plt.show()\n"
   ]
  },
  {
   "cell_type": "code",
   "execution_count": 68,
   "id": "c672466e",
   "metadata": {},
   "outputs": [
    {
     "data": {
      "text/plain": [
       "Index(['Age', 'Gender', 'Body Temperature', 'Infrared Sensor',\n",
       "       'GalvanicSkinResponseSensor', 'SkinTemperatureSensor',\n",
       "       'BloodVolumePulse', 'RespirationRateSensor', 'HeartRateSensor',\n",
       "       'MotionSensor'],\n",
       "      dtype='object')"
      ]
     },
     "execution_count": 68,
     "metadata": {},
     "output_type": "execute_result"
    }
   ],
   "source": [
    "\n",
    "X.columns\n"
   ]
  },
  {
   "cell_type": "markdown",
   "id": "be3da47d",
   "metadata": {},
   "source": [
    "# Winsorizing Outliers with capping method "
   ]
  },
  {
   "cell_type": "code",
   "execution_count": 69,
   "id": "3f3f8fc2",
   "metadata": {},
   "outputs": [],
   "source": [
    "\n",
    "\n",
    "from feature_engine.outliers import Winsorizer\n"
   ]
  },
  {
   "cell_type": "code",
   "execution_count": 70,
   "id": "7d08250e",
   "metadata": {},
   "outputs": [],
   "source": [
    "\n",
    "winsor = Winsorizer(capping_method='iqr', # choose  IQR rule boundaries or gaussian for mean and std\n",
    "                        tail='both', # cap left, right or both tails \n",
    "                        fold=1.5,\n",
    "                        variables=['Age','GalvanicSkinResponseSensor', 'SkinTemperatureSensor','BloodVolumePulse', 'RespirationRateSensor', 'HeartRateSensor'])\n"
   ]
  },
  {
   "cell_type": "markdown",
   "id": "6a71d03d",
   "metadata": {},
   "source": [
    "# Replacing the Outlier Values Present in Below Columns "
   ]
  },
  {
   "cell_type": "code",
   "execution_count": 71,
   "id": "b0c58379",
   "metadata": {},
   "outputs": [],
   "source": [
    "\n",
    "\n",
    "\n",
    "clean = winsor.fit(imputation1[['Age','GalvanicSkinResponseSensor', 'SkinTemperatureSensor','BloodVolumePulse', 'RespirationRateSensor', 'HeartRateSensor']])\n",
    "\n"
   ]
  },
  {
   "cell_type": "code",
   "execution_count": 72,
   "id": "4863414d",
   "metadata": {},
   "outputs": [],
   "source": [
    "\n",
    "\n",
    "imputation1[['Age','GalvanicSkinResponseSensor', 'SkinTemperatureSensor','BloodVolumePulse', 'RespirationRateSensor', 'HeartRateSensor']] = clean.transform(imputation1[['Age','GalvanicSkinResponseSensor', 'SkinTemperatureSensor','BloodVolumePulse', 'RespirationRateSensor', 'HeartRateSensor']])\n",
    "\n"
   ]
  },
  {
   "cell_type": "code",
   "execution_count": 73,
   "id": "c314c728",
   "metadata": {},
   "outputs": [
    {
     "data": {
      "text/html": [
       "<div>\n",
       "<style scoped>\n",
       "    .dataframe tbody tr th:only-of-type {\n",
       "        vertical-align: middle;\n",
       "    }\n",
       "\n",
       "    .dataframe tbody tr th {\n",
       "        vertical-align: top;\n",
       "    }\n",
       "\n",
       "    .dataframe thead th {\n",
       "        text-align: right;\n",
       "    }\n",
       "</style>\n",
       "<table border=\"1\" class=\"dataframe\">\n",
       "  <thead>\n",
       "    <tr style=\"text-align: right;\">\n",
       "      <th></th>\n",
       "      <th>Age</th>\n",
       "      <th>Body Temperature</th>\n",
       "      <th>GalvanicSkinResponseSensor</th>\n",
       "      <th>SkinTemperatureSensor</th>\n",
       "      <th>BloodVolumePulse</th>\n",
       "      <th>RespirationRateSensor</th>\n",
       "      <th>HeartRateSensor</th>\n",
       "    </tr>\n",
       "  </thead>\n",
       "  <tbody>\n",
       "    <tr>\n",
       "      <th>0</th>\n",
       "      <td>46.00</td>\n",
       "      <td>95.91</td>\n",
       "      <td>6.84</td>\n",
       "      <td>33.55</td>\n",
       "      <td>-18.39</td>\n",
       "      <td>15.60</td>\n",
       "      <td>123.00</td>\n",
       "    </tr>\n",
       "    <tr>\n",
       "      <th>1</th>\n",
       "      <td>36.00</td>\n",
       "      <td>89.32</td>\n",
       "      <td>6.59</td>\n",
       "      <td>33.55</td>\n",
       "      <td>-45.77</td>\n",
       "      <td>15.60</td>\n",
       "      <td>122.00</td>\n",
       "    </tr>\n",
       "    <tr>\n",
       "      <th>2</th>\n",
       "      <td>31.53</td>\n",
       "      <td>93.63</td>\n",
       "      <td>6.98</td>\n",
       "      <td>33.59</td>\n",
       "      <td>70.09</td>\n",
       "      <td>15.00</td>\n",
       "      <td>122.00</td>\n",
       "    </tr>\n",
       "    <tr>\n",
       "      <th>3</th>\n",
       "      <td>39.00</td>\n",
       "      <td>89.63</td>\n",
       "      <td>6.98</td>\n",
       "      <td>33.61</td>\n",
       "      <td>-48.23</td>\n",
       "      <td>17.12</td>\n",
       "      <td>121.00</td>\n",
       "    </tr>\n",
       "    <tr>\n",
       "      <th>4</th>\n",
       "      <td>51.00</td>\n",
       "      <td>93.65</td>\n",
       "      <td>7.09</td>\n",
       "      <td>33.57</td>\n",
       "      <td>7.87</td>\n",
       "      <td>14.70</td>\n",
       "      <td>120.00</td>\n",
       "    </tr>\n",
       "    <tr>\n",
       "      <th>...</th>\n",
       "      <td>...</td>\n",
       "      <td>...</td>\n",
       "      <td>...</td>\n",
       "      <td>...</td>\n",
       "      <td>...</td>\n",
       "      <td>...</td>\n",
       "      <td>...</td>\n",
       "    </tr>\n",
       "    <tr>\n",
       "      <th>271</th>\n",
       "      <td>28.00</td>\n",
       "      <td>99.41</td>\n",
       "      <td>1.83</td>\n",
       "      <td>33.36</td>\n",
       "      <td>37.31</td>\n",
       "      <td>17.90</td>\n",
       "      <td>97.50</td>\n",
       "    </tr>\n",
       "    <tr>\n",
       "      <th>272</th>\n",
       "      <td>37.00</td>\n",
       "      <td>91.28</td>\n",
       "      <td>1.83</td>\n",
       "      <td>33.36</td>\n",
       "      <td>-14.15</td>\n",
       "      <td>18.00</td>\n",
       "      <td>97.50</td>\n",
       "    </tr>\n",
       "    <tr>\n",
       "      <th>273</th>\n",
       "      <td>40.00</td>\n",
       "      <td>93.46</td>\n",
       "      <td>1.83</td>\n",
       "      <td>33.39</td>\n",
       "      <td>-14.15</td>\n",
       "      <td>18.30</td>\n",
       "      <td>98.00</td>\n",
       "    </tr>\n",
       "    <tr>\n",
       "      <th>274</th>\n",
       "      <td>32.00</td>\n",
       "      <td>94.41</td>\n",
       "      <td>1.83</td>\n",
       "      <td>33.38</td>\n",
       "      <td>-14.15</td>\n",
       "      <td>18.40</td>\n",
       "      <td>99.00</td>\n",
       "    </tr>\n",
       "    <tr>\n",
       "      <th>275</th>\n",
       "      <td>35.00</td>\n",
       "      <td>99.49</td>\n",
       "      <td>1.83</td>\n",
       "      <td>33.36</td>\n",
       "      <td>-14.12</td>\n",
       "      <td>18.90</td>\n",
       "      <td>97.50</td>\n",
       "    </tr>\n",
       "  </tbody>\n",
       "</table>\n",
       "<p>276 rows × 7 columns</p>\n",
       "</div>"
      ],
      "text/plain": [
       "      Age  Body Temperature  GalvanicSkinResponseSensor  \\\n",
       "0   46.00             95.91                        6.84   \n",
       "1   36.00             89.32                        6.59   \n",
       "2   31.53             93.63                        6.98   \n",
       "3   39.00             89.63                        6.98   \n",
       "4   51.00             93.65                        7.09   \n",
       "..    ...               ...                         ...   \n",
       "271 28.00             99.41                        1.83   \n",
       "272 37.00             91.28                        1.83   \n",
       "273 40.00             93.46                        1.83   \n",
       "274 32.00             94.41                        1.83   \n",
       "275 35.00             99.49                        1.83   \n",
       "\n",
       "     SkinTemperatureSensor  BloodVolumePulse  RespirationRateSensor  \\\n",
       "0                    33.55            -18.39                  15.60   \n",
       "1                    33.55            -45.77                  15.60   \n",
       "2                    33.59             70.09                  15.00   \n",
       "3                    33.61            -48.23                  17.12   \n",
       "4                    33.57              7.87                  14.70   \n",
       "..                     ...               ...                    ...   \n",
       "271                  33.36             37.31                  17.90   \n",
       "272                  33.36            -14.15                  18.00   \n",
       "273                  33.39            -14.15                  18.30   \n",
       "274                  33.38            -14.15                  18.40   \n",
       "275                  33.36            -14.12                  18.90   \n",
       "\n",
       "     HeartRateSensor  \n",
       "0             123.00  \n",
       "1             122.00  \n",
       "2             122.00  \n",
       "3             121.00  \n",
       "4             120.00  \n",
       "..               ...  \n",
       "271            97.50  \n",
       "272            97.50  \n",
       "273            98.00  \n",
       "274            99.00  \n",
       "275            97.50  \n",
       "\n",
       "[276 rows x 7 columns]"
      ]
     },
     "execution_count": 73,
     "metadata": {},
     "output_type": "execute_result"
    }
   ],
   "source": [
    "\n",
    "imputation1\n"
   ]
  },
  {
   "cell_type": "markdown",
   "id": "05e878a2",
   "metadata": {},
   "source": [
    "# Identifying the Outliers After Winsorization with the Help of Boxplot"
   ]
  },
  {
   "cell_type": "code",
   "execution_count": 74,
   "id": "0b187fee",
   "metadata": {},
   "outputs": [
    {
     "data": {
      "image/png": "[encoded data removed]",
      "text/plain": [
       "<Figure size 864x720 with 7 Axes>"
      ]
     },
     "metadata": {
      "needs_background": "light"
     },
     "output_type": "display_data"
    }
   ],
   "source": [
    "\n",
    "\n",
    "\n",
    "imputation1.plot(kind = 'box', subplots = True, sharey = False, figsize = (12,10)) \n",
    "\n",
    "# increase spacing between subplots\n",
    "plt.subplots_adjust(wspace = 0.50)# ws is the width of the padding between subplots, as a fraction of the average Axes width.\n",
    "plt.show()\n"
   ]
  },
  {
   "cell_type": "markdown",
   "id": "664399ea",
   "metadata": {},
   "source": [
    "# creating instance of Pipeline for MinMaxScaling"
   ]
  },
  {
   "cell_type": "code",
   "execution_count": 75,
   "id": "8aacacc9",
   "metadata": {},
   "outputs": [],
   "source": [
    "\n",
    "\n",
    "scale_pipeline = Pipeline([['scale', MinMaxScaler()]])\n"
   ]
  },
  {
   "cell_type": "markdown",
   "id": "3f30451c",
   "metadata": {},
   "source": [
    "# Transforming the MinMaxScaling numeric Features into Scale_columntransformer"
   ]
  },
  {
   "cell_type": "code",
   "execution_count": 76,
   "id": "65b79c62",
   "metadata": {},
   "outputs": [],
   "source": [
    "\n",
    "\n",
    "scale_columntransformer = ColumnTransformer([('scale', scale_pipeline, numeric_features)])"
   ]
  },
  {
   "cell_type": "markdown",
   "id": "51b89bd4",
   "metadata": {},
   "source": [
    "# After Columnstransformation for MinMaxScaling fitting the imputation1 numeric values into scale"
   ]
  },
  {
   "cell_type": "code",
   "execution_count": 77,
   "id": "a63e62bf",
   "metadata": {},
   "outputs": [],
   "source": [
    "\n",
    "\n",
    "scale = scale_columntransformer.fit(imputation1)\n",
    "\n"
   ]
  },
  {
   "cell_type": "markdown",
   "id": "dfca66e4",
   "metadata": {},
   "source": [
    "# Creating the Dataframe of minmaxscale values of imputation1 into scaled_data"
   ]
  },
  {
   "cell_type": "code",
   "execution_count": 78,
   "id": "be2904a0",
   "metadata": {},
   "outputs": [],
   "source": [
    "\n",
    "\n",
    "scaled_data = pd.DataFrame(scale.transform(imputation1))\n"
   ]
  },
  {
   "cell_type": "code",
   "execution_count": 79,
   "id": "8d5bdaa0",
   "metadata": {},
   "outputs": [
    {
     "data": {
      "text/html": [
       "<div>\n",
       "<style scoped>\n",
       "    .dataframe tbody tr th:only-of-type {\n",
       "        vertical-align: middle;\n",
       "    }\n",
       "\n",
       "    .dataframe tbody tr th {\n",
       "        vertical-align: top;\n",
       "    }\n",
       "\n",
       "    .dataframe thead th {\n",
       "        text-align: right;\n",
       "    }\n",
       "</style>\n",
       "<table border=\"1\" class=\"dataframe\">\n",
       "  <thead>\n",
       "    <tr style=\"text-align: right;\">\n",
       "      <th></th>\n",
       "      <th>0</th>\n",
       "      <th>1</th>\n",
       "      <th>2</th>\n",
       "      <th>3</th>\n",
       "      <th>4</th>\n",
       "      <th>5</th>\n",
       "      <th>6</th>\n",
       "    </tr>\n",
       "  </thead>\n",
       "  <tbody>\n",
       "    <tr>\n",
       "      <th>0</th>\n",
       "      <td>0.78</td>\n",
       "      <td>0.73</td>\n",
       "      <td>0.50</td>\n",
       "      <td>0.51</td>\n",
       "      <td>0.44</td>\n",
       "      <td>0.18</td>\n",
       "      <td>0.42</td>\n",
       "    </tr>\n",
       "    <tr>\n",
       "      <th>1</th>\n",
       "      <td>0.48</td>\n",
       "      <td>0.29</td>\n",
       "      <td>0.47</td>\n",
       "      <td>0.51</td>\n",
       "      <td>0.36</td>\n",
       "      <td>0.18</td>\n",
       "      <td>0.41</td>\n",
       "    </tr>\n",
       "    <tr>\n",
       "      <th>2</th>\n",
       "      <td>0.34</td>\n",
       "      <td>0.57</td>\n",
       "      <td>0.51</td>\n",
       "      <td>0.62</td>\n",
       "      <td>0.73</td>\n",
       "      <td>0.11</td>\n",
       "      <td>0.41</td>\n",
       "    </tr>\n",
       "    <tr>\n",
       "      <th>3</th>\n",
       "      <td>0.57</td>\n",
       "      <td>0.31</td>\n",
       "      <td>0.51</td>\n",
       "      <td>0.69</td>\n",
       "      <td>0.35</td>\n",
       "      <td>0.35</td>\n",
       "      <td>0.39</td>\n",
       "    </tr>\n",
       "    <tr>\n",
       "      <th>4</th>\n",
       "      <td>0.93</td>\n",
       "      <td>0.58</td>\n",
       "      <td>0.52</td>\n",
       "      <td>0.57</td>\n",
       "      <td>0.53</td>\n",
       "      <td>0.08</td>\n",
       "      <td>0.38</td>\n",
       "    </tr>\n",
       "    <tr>\n",
       "      <th>...</th>\n",
       "      <td>...</td>\n",
       "      <td>...</td>\n",
       "      <td>...</td>\n",
       "      <td>...</td>\n",
       "      <td>...</td>\n",
       "      <td>...</td>\n",
       "      <td>...</td>\n",
       "    </tr>\n",
       "    <tr>\n",
       "      <th>271</th>\n",
       "      <td>0.24</td>\n",
       "      <td>0.96</td>\n",
       "      <td>0.00</td>\n",
       "      <td>0.00</td>\n",
       "      <td>0.62</td>\n",
       "      <td>0.44</td>\n",
       "      <td>0.00</td>\n",
       "    </tr>\n",
       "    <tr>\n",
       "      <th>272</th>\n",
       "      <td>0.51</td>\n",
       "      <td>0.42</td>\n",
       "      <td>0.00</td>\n",
       "      <td>0.00</td>\n",
       "      <td>0.46</td>\n",
       "      <td>0.45</td>\n",
       "      <td>0.00</td>\n",
       "    </tr>\n",
       "    <tr>\n",
       "      <th>273</th>\n",
       "      <td>0.60</td>\n",
       "      <td>0.56</td>\n",
       "      <td>0.00</td>\n",
       "      <td>0.07</td>\n",
       "      <td>0.46</td>\n",
       "      <td>0.49</td>\n",
       "      <td>0.01</td>\n",
       "    </tr>\n",
       "    <tr>\n",
       "      <th>274</th>\n",
       "      <td>0.36</td>\n",
       "      <td>0.63</td>\n",
       "      <td>0.00</td>\n",
       "      <td>0.04</td>\n",
       "      <td>0.46</td>\n",
       "      <td>0.50</td>\n",
       "      <td>0.02</td>\n",
       "    </tr>\n",
       "    <tr>\n",
       "      <th>275</th>\n",
       "      <td>0.45</td>\n",
       "      <td>0.97</td>\n",
       "      <td>0.00</td>\n",
       "      <td>0.00</td>\n",
       "      <td>0.46</td>\n",
       "      <td>0.56</td>\n",
       "      <td>0.00</td>\n",
       "    </tr>\n",
       "  </tbody>\n",
       "</table>\n",
       "<p>276 rows × 7 columns</p>\n",
       "</div>"
      ],
      "text/plain": [
       "       0    1    2    3    4    5    6\n",
       "0   0.78 0.73 0.50 0.51 0.44 0.18 0.42\n",
       "1   0.48 0.29 0.47 0.51 0.36 0.18 0.41\n",
       "2   0.34 0.57 0.51 0.62 0.73 0.11 0.41\n",
       "3   0.57 0.31 0.51 0.69 0.35 0.35 0.39\n",
       "4   0.93 0.58 0.52 0.57 0.53 0.08 0.38\n",
       "..   ...  ...  ...  ...  ...  ...  ...\n",
       "271 0.24 0.96 0.00 0.00 0.62 0.44 0.00\n",
       "272 0.51 0.42 0.00 0.00 0.46 0.45 0.00\n",
       "273 0.60 0.56 0.00 0.07 0.46 0.49 0.01\n",
       "274 0.36 0.63 0.00 0.04 0.46 0.50 0.02\n",
       "275 0.45 0.97 0.00 0.00 0.46 0.56 0.00\n",
       "\n",
       "[276 rows x 7 columns]"
      ]
     },
     "execution_count": 79,
     "metadata": {},
     "output_type": "execute_result"
    }
   ],
   "source": [
    "\n",
    "scaled_data\n"
   ]
  },
  {
   "cell_type": "markdown",
   "id": "e77ee9f5",
   "metadata": {},
   "source": [
    "# creating instance of Pipeline for OneHotEncoding"
   ]
  },
  {
   "cell_type": "code",
   "execution_count": 80,
   "id": "1e6f856c",
   "metadata": {},
   "outputs": [],
   "source": [
    "\n",
    "\n",
    "encoding_pipeline = Pipeline([('onehot', OneHotEncoder())])\n"
   ]
  },
  {
   "cell_type": "markdown",
   "id": "feb3f38f",
   "metadata": {},
   "source": [
    "# Transforming the OneHotEncoding categorical Features into Preprocess_pipeline"
   ]
  },
  {
   "cell_type": "code",
   "execution_count": 81,
   "id": "4794591f",
   "metadata": {},
   "outputs": [],
   "source": [
    "\n",
    "\n",
    "preprocess_pipeline = ColumnTransformer([('categorical', encoding_pipeline, categorical_features)])\n"
   ]
  },
  {
   "cell_type": "markdown",
   "id": "429d82fe",
   "metadata": {},
   "source": [
    "# After Columnstransformation for OneHotEncoding fitting the preprocess_pipeline categorical values into clean"
   ]
  },
  {
   "cell_type": "code",
   "execution_count": 82,
   "id": "ccb6fc99",
   "metadata": {},
   "outputs": [],
   "source": [
    "\n",
    "\n",
    "clean = preprocess_pipeline.fit(X)\n"
   ]
  },
  {
   "cell_type": "markdown",
   "id": "99973c3e",
   "metadata": {},
   "source": [
    "# Creating the Dataframe of OneHotEncoding values of clean into encoded_data"
   ]
  },
  {
   "cell_type": "code",
   "execution_count": 83,
   "id": "dfa336c1",
   "metadata": {},
   "outputs": [],
   "source": [
    "\n",
    "\n",
    "encoded_data = pd.DataFrame(clean.transform(X).todense())\n"
   ]
  },
  {
   "cell_type": "code",
   "execution_count": 84,
   "id": "29ff8259",
   "metadata": {},
   "outputs": [
    {
     "data": {
      "text/html": [
       "<div>\n",
       "<style scoped>\n",
       "    .dataframe tbody tr th:only-of-type {\n",
       "        vertical-align: middle;\n",
       "    }\n",
       "\n",
       "    .dataframe tbody tr th {\n",
       "        vertical-align: top;\n",
       "    }\n",
       "\n",
       "    .dataframe thead th {\n",
       "        text-align: right;\n",
       "    }\n",
       "</style>\n",
       "<table border=\"1\" class=\"dataframe\">\n",
       "  <thead>\n",
       "    <tr style=\"text-align: right;\">\n",
       "      <th></th>\n",
       "      <th>0</th>\n",
       "      <th>1</th>\n",
       "      <th>2</th>\n",
       "      <th>3</th>\n",
       "      <th>4</th>\n",
       "      <th>5</th>\n",
       "      <th>6</th>\n",
       "      <th>7</th>\n",
       "      <th>8</th>\n",
       "      <th>9</th>\n",
       "      <th>10</th>\n",
       "      <th>11</th>\n",
       "      <th>12</th>\n",
       "      <th>13</th>\n",
       "      <th>14</th>\n",
       "      <th>15</th>\n",
       "      <th>16</th>\n",
       "      <th>17</th>\n",
       "    </tr>\n",
       "  </thead>\n",
       "  <tbody>\n",
       "    <tr>\n",
       "      <th>0</th>\n",
       "      <td>0.00</td>\n",
       "      <td>1.00</td>\n",
       "      <td>1.00</td>\n",
       "      <td>0.00</td>\n",
       "      <td>0.00</td>\n",
       "      <td>0.00</td>\n",
       "      <td>0.00</td>\n",
       "      <td>0.00</td>\n",
       "      <td>0.00</td>\n",
       "      <td>0.00</td>\n",
       "      <td>0.00</td>\n",
       "      <td>0.00</td>\n",
       "      <td>0.00</td>\n",
       "      <td>1.00</td>\n",
       "      <td>0.00</td>\n",
       "      <td>0.00</td>\n",
       "      <td>0.00</td>\n",
       "      <td>0.00</td>\n",
       "    </tr>\n",
       "    <tr>\n",
       "      <th>1</th>\n",
       "      <td>0.00</td>\n",
       "      <td>1.00</td>\n",
       "      <td>0.00</td>\n",
       "      <td>1.00</td>\n",
       "      <td>0.00</td>\n",
       "      <td>0.00</td>\n",
       "      <td>0.00</td>\n",
       "      <td>0.00</td>\n",
       "      <td>0.00</td>\n",
       "      <td>0.00</td>\n",
       "      <td>0.00</td>\n",
       "      <td>0.00</td>\n",
       "      <td>0.00</td>\n",
       "      <td>0.00</td>\n",
       "      <td>0.00</td>\n",
       "      <td>0.00</td>\n",
       "      <td>1.00</td>\n",
       "      <td>0.00</td>\n",
       "    </tr>\n",
       "    <tr>\n",
       "      <th>2</th>\n",
       "      <td>0.00</td>\n",
       "      <td>1.00</td>\n",
       "      <td>1.00</td>\n",
       "      <td>0.00</td>\n",
       "      <td>0.00</td>\n",
       "      <td>0.00</td>\n",
       "      <td>0.00</td>\n",
       "      <td>0.00</td>\n",
       "      <td>0.00</td>\n",
       "      <td>0.00</td>\n",
       "      <td>0.00</td>\n",
       "      <td>0.00</td>\n",
       "      <td>0.00</td>\n",
       "      <td>0.00</td>\n",
       "      <td>1.00</td>\n",
       "      <td>0.00</td>\n",
       "      <td>0.00</td>\n",
       "      <td>0.00</td>\n",
       "    </tr>\n",
       "    <tr>\n",
       "      <th>3</th>\n",
       "      <td>1.00</td>\n",
       "      <td>0.00</td>\n",
       "      <td>0.00</td>\n",
       "      <td>1.00</td>\n",
       "      <td>0.00</td>\n",
       "      <td>0.00</td>\n",
       "      <td>0.00</td>\n",
       "      <td>0.00</td>\n",
       "      <td>0.00</td>\n",
       "      <td>0.00</td>\n",
       "      <td>0.00</td>\n",
       "      <td>0.00</td>\n",
       "      <td>0.00</td>\n",
       "      <td>0.00</td>\n",
       "      <td>0.00</td>\n",
       "      <td>0.00</td>\n",
       "      <td>1.00</td>\n",
       "      <td>0.00</td>\n",
       "    </tr>\n",
       "    <tr>\n",
       "      <th>4</th>\n",
       "      <td>0.00</td>\n",
       "      <td>1.00</td>\n",
       "      <td>0.00</td>\n",
       "      <td>1.00</td>\n",
       "      <td>0.00</td>\n",
       "      <td>0.00</td>\n",
       "      <td>0.00</td>\n",
       "      <td>1.00</td>\n",
       "      <td>0.00</td>\n",
       "      <td>0.00</td>\n",
       "      <td>0.00</td>\n",
       "      <td>0.00</td>\n",
       "      <td>0.00</td>\n",
       "      <td>0.00</td>\n",
       "      <td>0.00</td>\n",
       "      <td>0.00</td>\n",
       "      <td>0.00</td>\n",
       "      <td>0.00</td>\n",
       "    </tr>\n",
       "    <tr>\n",
       "      <th>...</th>\n",
       "      <td>...</td>\n",
       "      <td>...</td>\n",
       "      <td>...</td>\n",
       "      <td>...</td>\n",
       "      <td>...</td>\n",
       "      <td>...</td>\n",
       "      <td>...</td>\n",
       "      <td>...</td>\n",
       "      <td>...</td>\n",
       "      <td>...</td>\n",
       "      <td>...</td>\n",
       "      <td>...</td>\n",
       "      <td>...</td>\n",
       "      <td>...</td>\n",
       "      <td>...</td>\n",
       "      <td>...</td>\n",
       "      <td>...</td>\n",
       "      <td>...</td>\n",
       "    </tr>\n",
       "    <tr>\n",
       "      <th>271</th>\n",
       "      <td>1.00</td>\n",
       "      <td>0.00</td>\n",
       "      <td>0.00</td>\n",
       "      <td>1.00</td>\n",
       "      <td>0.00</td>\n",
       "      <td>0.00</td>\n",
       "      <td>0.00</td>\n",
       "      <td>0.00</td>\n",
       "      <td>0.00</td>\n",
       "      <td>0.00</td>\n",
       "      <td>0.00</td>\n",
       "      <td>0.00</td>\n",
       "      <td>0.00</td>\n",
       "      <td>0.00</td>\n",
       "      <td>0.00</td>\n",
       "      <td>0.00</td>\n",
       "      <td>1.00</td>\n",
       "      <td>0.00</td>\n",
       "    </tr>\n",
       "    <tr>\n",
       "      <th>272</th>\n",
       "      <td>1.00</td>\n",
       "      <td>0.00</td>\n",
       "      <td>0.00</td>\n",
       "      <td>1.00</td>\n",
       "      <td>0.00</td>\n",
       "      <td>0.00</td>\n",
       "      <td>0.00</td>\n",
       "      <td>0.00</td>\n",
       "      <td>1.00</td>\n",
       "      <td>0.00</td>\n",
       "      <td>0.00</td>\n",
       "      <td>0.00</td>\n",
       "      <td>0.00</td>\n",
       "      <td>0.00</td>\n",
       "      <td>0.00</td>\n",
       "      <td>0.00</td>\n",
       "      <td>0.00</td>\n",
       "      <td>0.00</td>\n",
       "    </tr>\n",
       "    <tr>\n",
       "      <th>273</th>\n",
       "      <td>1.00</td>\n",
       "      <td>0.00</td>\n",
       "      <td>0.00</td>\n",
       "      <td>1.00</td>\n",
       "      <td>0.00</td>\n",
       "      <td>0.00</td>\n",
       "      <td>0.00</td>\n",
       "      <td>0.00</td>\n",
       "      <td>0.00</td>\n",
       "      <td>0.00</td>\n",
       "      <td>0.00</td>\n",
       "      <td>0.00</td>\n",
       "      <td>0.00</td>\n",
       "      <td>0.00</td>\n",
       "      <td>0.00</td>\n",
       "      <td>1.00</td>\n",
       "      <td>0.00</td>\n",
       "      <td>0.00</td>\n",
       "    </tr>\n",
       "    <tr>\n",
       "      <th>274</th>\n",
       "      <td>1.00</td>\n",
       "      <td>0.00</td>\n",
       "      <td>0.00</td>\n",
       "      <td>1.00</td>\n",
       "      <td>0.00</td>\n",
       "      <td>0.00</td>\n",
       "      <td>0.00</td>\n",
       "      <td>0.00</td>\n",
       "      <td>0.00</td>\n",
       "      <td>0.00</td>\n",
       "      <td>0.00</td>\n",
       "      <td>0.00</td>\n",
       "      <td>0.00</td>\n",
       "      <td>1.00</td>\n",
       "      <td>0.00</td>\n",
       "      <td>0.00</td>\n",
       "      <td>0.00</td>\n",
       "      <td>0.00</td>\n",
       "    </tr>\n",
       "    <tr>\n",
       "      <th>275</th>\n",
       "      <td>1.00</td>\n",
       "      <td>0.00</td>\n",
       "      <td>0.00</td>\n",
       "      <td>1.00</td>\n",
       "      <td>0.00</td>\n",
       "      <td>0.00</td>\n",
       "      <td>0.00</td>\n",
       "      <td>0.00</td>\n",
       "      <td>0.00</td>\n",
       "      <td>0.00</td>\n",
       "      <td>0.00</td>\n",
       "      <td>0.00</td>\n",
       "      <td>0.00</td>\n",
       "      <td>0.00</td>\n",
       "      <td>1.00</td>\n",
       "      <td>0.00</td>\n",
       "      <td>0.00</td>\n",
       "      <td>0.00</td>\n",
       "    </tr>\n",
       "  </tbody>\n",
       "</table>\n",
       "<p>276 rows × 18 columns</p>\n",
       "</div>"
      ],
      "text/plain": [
       "      0    1    2    3    4    5    6    7    8    9    10   11   12   13  \\\n",
       "0   0.00 1.00 1.00 0.00 0.00 0.00 0.00 0.00 0.00 0.00 0.00 0.00 0.00 1.00   \n",
       "1   0.00 1.00 0.00 1.00 0.00 0.00 0.00 0.00 0.00 0.00 0.00 0.00 0.00 0.00   \n",
       "2   0.00 1.00 1.00 0.00 0.00 0.00 0.00 0.00 0.00 0.00 0.00 0.00 0.00 0.00   \n",
       "3   1.00 0.00 0.00 1.00 0.00 0.00 0.00 0.00 0.00 0.00 0.00 0.00 0.00 0.00   \n",
       "4   0.00 1.00 0.00 1.00 0.00 0.00 0.00 1.00 0.00 0.00 0.00 0.00 0.00 0.00   \n",
       "..   ...  ...  ...  ...  ...  ...  ...  ...  ...  ...  ...  ...  ...  ...   \n",
       "271 1.00 0.00 0.00 1.00 0.00 0.00 0.00 0.00 0.00 0.00 0.00 0.00 0.00 0.00   \n",
       "272 1.00 0.00 0.00 1.00 0.00 0.00 0.00 0.00 1.00 0.00 0.00 0.00 0.00 0.00   \n",
       "273 1.00 0.00 0.00 1.00 0.00 0.00 0.00 0.00 0.00 0.00 0.00 0.00 0.00 0.00   \n",
       "274 1.00 0.00 0.00 1.00 0.00 0.00 0.00 0.00 0.00 0.00 0.00 0.00 0.00 1.00   \n",
       "275 1.00 0.00 0.00 1.00 0.00 0.00 0.00 0.00 0.00 0.00 0.00 0.00 0.00 0.00   \n",
       "\n",
       "      14   15   16   17  \n",
       "0   0.00 0.00 0.00 0.00  \n",
       "1   0.00 0.00 1.00 0.00  \n",
       "2   1.00 0.00 0.00 0.00  \n",
       "3   0.00 0.00 1.00 0.00  \n",
       "4   0.00 0.00 0.00 0.00  \n",
       "..   ...  ...  ...  ...  \n",
       "271 0.00 0.00 1.00 0.00  \n",
       "272 0.00 0.00 0.00 0.00  \n",
       "273 0.00 1.00 0.00 0.00  \n",
       "274 0.00 0.00 0.00 0.00  \n",
       "275 1.00 0.00 0.00 0.00  \n",
       "\n",
       "[276 rows x 18 columns]"
      ]
     },
     "execution_count": 84,
     "metadata": {},
     "output_type": "execute_result"
    }
   ],
   "source": [
    "\n",
    "encoded_data\n"
   ]
  },
  {
   "cell_type": "markdown",
   "id": "56aae341",
   "metadata": {},
   "source": [
    "# Concating the Scaled_data, Encoded_data into Clean_data"
   ]
  },
  {
   "cell_type": "code",
   "execution_count": 85,
   "id": "7fa8d040",
   "metadata": {},
   "outputs": [],
   "source": [
    "\n",
    "\n",
    "clean_data = pd.concat([scaled_data, encoded_data], axis=1 , ignore_index = True)\n"
   ]
  },
  {
   "cell_type": "markdown",
   "id": "ec850fd8",
   "metadata": {},
   "source": [
    "# Splitting the lbdata Dataset into Train_test For ModelBuilding Purpose"
   ]
  },
  {
   "cell_type": "code",
   "execution_count": 86,
   "id": "a192bebd",
   "metadata": {},
   "outputs": [],
   "source": [
    "\n",
    "\n",
    "from sklearn.model_selection import train_test_split\n"
   ]
  },
  {
   "cell_type": "code",
   "execution_count": 87,
   "id": "c0f4a515",
   "metadata": {},
   "outputs": [],
   "source": [
    "\n",
    "X_train, X_test, Y_train, Y_test = train_test_split(clean_data, Y, test_size = 0.2, random_state = 123)\n"
   ]
  },
  {
   "cell_type": "code",
   "execution_count": 88,
   "id": "bae820c3",
   "metadata": {},
   "outputs": [],
   "source": [
    "\n",
    "clf = LazyClassifier(verbose=0, ignore_warnings=True, custom_metric=None)\n"
   ]
  },
  {
   "cell_type": "code",
   "execution_count": 89,
   "id": "be0a4491",
   "metadata": {},
   "outputs": [
    {
     "name": "stderr",
     "output_type": "stream",
     "text": [
      "100%|██████████| 29/29 [00:02<00:00, 13.29it/s]"
     ]
    },
    {
     "name": "stdout",
     "output_type": "stream",
     "text": [
      "                               Accuracy  Balanced Accuracy ROC AUC  F1 Score  \\\n",
      "Model                                                                          \n",
      "LinearSVC                          1.00               1.00    None      1.00   \n",
      "ExtraTreesClassifier               1.00               1.00    None      1.00   \n",
      "PassiveAggressiveClassifier        1.00               1.00    None      1.00   \n",
      "LogisticRegression                 1.00               1.00    None      1.00   \n",
      "LabelSpreading                     1.00               1.00    None      1.00   \n",
      "KNeighborsClassifier               1.00               1.00    None      1.00   \n",
      "LabelPropagation                   1.00               1.00    None      1.00   \n",
      "SVC                                1.00               1.00    None      1.00   \n",
      "DecisionTreeClassifier             1.00               1.00    None      1.00   \n",
      "ExtraTreeClassifier                0.98               0.99    None      0.98   \n",
      "XGBClassifier                      0.98               0.99    None      0.98   \n",
      "GaussianNB                         0.96               0.98    None      0.97   \n",
      "RidgeClassifier                    0.96               0.98    None      0.97   \n",
      "LinearDiscriminantAnalysis         0.96               0.98    None      0.97   \n",
      "NearestCentroid                    0.96               0.98    None      0.97   \n",
      "RidgeClassifierCV                  0.96               0.98    None      0.97   \n",
      "BaggingClassifier                  0.98               0.95    None      0.98   \n",
      "CalibratedClassifierCV             0.98               0.95    None      0.98   \n",
      "SGDClassifier                      0.98               0.95    None      0.98   \n",
      "RandomForestClassifier             0.98               0.95    None      0.98   \n",
      "AdaBoostClassifier                 0.96               0.94    None      0.96   \n",
      "Perceptron                         0.96               0.94    None      0.96   \n",
      "BernoulliNB                        0.96               0.94    None      0.96   \n",
      "LGBMClassifier                     0.91               0.84    None      0.91   \n",
      "QuadraticDiscriminantAnalysis      0.80               0.50    None      0.72   \n",
      "DummyClassifier                    0.80               0.50    None      0.72   \n",
      "\n",
      "                               Time Taken  \n",
      "Model                                      \n",
      "LinearSVC                            0.03  \n",
      "ExtraTreesClassifier                 0.27  \n",
      "PassiveAggressiveClassifier          0.02  \n",
      "LogisticRegression                   0.06  \n",
      "LabelSpreading                       0.04  \n",
      "KNeighborsClassifier                 0.03  \n",
      "LabelPropagation                     0.03  \n",
      "SVC                                  0.02  \n",
      "DecisionTreeClassifier               0.05  \n",
      "ExtraTreeClassifier                  0.02  \n",
      "XGBClassifier                        0.15  \n",
      "GaussianNB                           0.02  \n",
      "RidgeClassifier                      0.03  \n",
      "LinearDiscriminantAnalysis           0.05  \n",
      "NearestCentroid                      0.04  \n",
      "RidgeClassifierCV                    0.04  \n",
      "BaggingClassifier                    0.08  \n",
      "CalibratedClassifierCV               0.09  \n",
      "SGDClassifier                        0.02  \n",
      "RandomForestClassifier               0.49  \n",
      "AdaBoostClassifier                   0.31  \n",
      "Perceptron                           0.02  \n",
      "BernoulliNB                          0.04  \n",
      "LGBMClassifier                       0.08  \n",
      "QuadraticDiscriminantAnalysis        0.04  \n",
      "DummyClassifier                      0.05  \n"
     ]
    },
    {
     "name": "stderr",
     "output_type": "stream",
     "text": [
      "\n"
     ]
    }
   ],
   "source": [
    "\n",
    "models, predictions =clf.fit(X_train, X_test, Y_train, Y_test)\n",
    "\n",
    "print(models)\n"
   ]
  },
  {
   "cell_type": "code",
   "execution_count": null,
   "id": "cda64202",
   "metadata": {},
   "outputs": [],
   "source": []
  },
  {
   "cell_type": "code",
   "execution_count": null,
   "id": "eb4af7af",
   "metadata": {},
   "outputs": [],
   "source": []
  }
 ],
 "metadata": {
  "kernelspec": {
   "display_name": "Python 3 (ipykernel)",
   "language": "python",
   "name": "python3"
  },
  "language_info": {
   "codemirror_mode": {
    "name": "ipython",
    "version": 3
   },
   "file_extension": ".py",
   "mimetype": "text/x-python",
   "name": "python",
   "nbconvert_exporter": "python",
   "pygments_lexer": "ipython3",
   "version": "3.9.12"
  }
 },
 "nbformat": 4,
 "nbformat_minor": 5
}
